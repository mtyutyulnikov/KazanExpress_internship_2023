{
 "cells": [
  {
   "attachments": {},
   "cell_type": "markdown",
   "metadata": {},
   "source": [
    "# Препроцессинг"
   ]
  },
  {
   "cell_type": "code",
   "execution_count": 29,
   "metadata": {},
   "outputs": [
    {
     "data": {
      "text/html": [
       "<div>\n",
       "<style scoped>\n",
       "    .dataframe tbody tr th:only-of-type {\n",
       "        vertical-align: middle;\n",
       "    }\n",
       "\n",
       "    .dataframe tbody tr th {\n",
       "        vertical-align: top;\n",
       "    }\n",
       "\n",
       "    .dataframe thead th {\n",
       "        text-align: right;\n",
       "    }\n",
       "</style>\n",
       "<table border=\"1\" class=\"dataframe\">\n",
       "  <thead>\n",
       "    <tr style=\"text-align: right;\">\n",
       "      <th></th>\n",
       "      <th>product_id</th>\n",
       "      <th>category_id</th>\n",
       "      <th>sale</th>\n",
       "      <th>shop_id</th>\n",
       "      <th>shop_title</th>\n",
       "      <th>rating</th>\n",
       "      <th>text_fields</th>\n",
       "      <th>category_name</th>\n",
       "    </tr>\n",
       "  </thead>\n",
       "  <tbody>\n",
       "    <tr>\n",
       "      <th>0</th>\n",
       "      <td>325286</td>\n",
       "      <td>12171</td>\n",
       "      <td>False</td>\n",
       "      <td>9031</td>\n",
       "      <td>Aksik</td>\n",
       "      <td>5.00000</td>\n",
       "      <td>{\"title\": \"Зарядный кабель Borofone BX1 Lightn...</td>\n",
       "      <td>Все категории-&gt;Электроника-&gt;Смартфоны и телефо...</td>\n",
       "    </tr>\n",
       "    <tr>\n",
       "      <th>1</th>\n",
       "      <td>888134</td>\n",
       "      <td>14233</td>\n",
       "      <td>False</td>\n",
       "      <td>18305</td>\n",
       "      <td>Sela</td>\n",
       "      <td>5.00000</td>\n",
       "      <td>{\"title\": \"Трусы Sela\", \"description\": \"Трусы-...</td>\n",
       "      <td>Все категории-&gt;Одежда-&gt;Женская одежда-&gt;Белье и...</td>\n",
       "    </tr>\n",
       "    <tr>\n",
       "      <th>3</th>\n",
       "      <td>1267173</td>\n",
       "      <td>13429</td>\n",
       "      <td>False</td>\n",
       "      <td>16357</td>\n",
       "      <td>ЮНЛАНДИЯ канцтовары</td>\n",
       "      <td>5.00000</td>\n",
       "      <td>{\"title\": \"Гуашь \\\"ЮНЫЙ ВОЛШЕБНИК\\\", 12 цветов...</td>\n",
       "      <td>Все категории-&gt;Хобби и творчество-&gt;Рисование-&gt;...</td>\n",
       "    </tr>\n",
       "    <tr>\n",
       "      <th>4</th>\n",
       "      <td>1416943</td>\n",
       "      <td>2789</td>\n",
       "      <td>False</td>\n",
       "      <td>34666</td>\n",
       "      <td>вася-nicotine</td>\n",
       "      <td>4.00000</td>\n",
       "      <td>{\"title\": \"Колба для кальяна Крафт (разные цве...</td>\n",
       "      <td>Все категории-&gt;Хобби и творчество-&gt;Товары для ...</td>\n",
       "    </tr>\n",
       "    <tr>\n",
       "      <th>5</th>\n",
       "      <td>1058275</td>\n",
       "      <td>12834</td>\n",
       "      <td>False</td>\n",
       "      <td>26389</td>\n",
       "      <td>Lim Market</td>\n",
       "      <td>4.60000</td>\n",
       "      <td>{\"title\": \"Пижама женская, однотонная с шортам...</td>\n",
       "      <td>Все категории-&gt;Одежда-&gt;Женская одежда-&gt;Домашня...</td>\n",
       "    </tr>\n",
       "    <tr>\n",
       "      <th>...</th>\n",
       "      <td>...</td>\n",
       "      <td>...</td>\n",
       "      <td>...</td>\n",
       "      <td>...</td>\n",
       "      <td>...</td>\n",
       "      <td>...</td>\n",
       "      <td>...</td>\n",
       "      <td>...</td>\n",
       "    </tr>\n",
       "    <tr>\n",
       "      <th>99987</th>\n",
       "      <td>114402</td>\n",
       "      <td>14922</td>\n",
       "      <td>False</td>\n",
       "      <td>4955</td>\n",
       "      <td>СТЕКЛОФФ ПРО</td>\n",
       "      <td>3.62069</td>\n",
       "      <td>{\"title\": \"Прочное стекло 2D на Samsung Galaxy...</td>\n",
       "      <td>Все категории-&gt;Электроника-&gt;Смартфоны и телефо...</td>\n",
       "    </tr>\n",
       "    <tr>\n",
       "      <th>99988</th>\n",
       "      <td>1594500</td>\n",
       "      <td>13028</td>\n",
       "      <td>False</td>\n",
       "      <td>19626</td>\n",
       "      <td>Hobby room</td>\n",
       "      <td>5.00000</td>\n",
       "      <td>{\"title\": \"Алмазная мозаика \\\"Ромашки\\\" 40*50с...</td>\n",
       "      <td>Все категории-&gt;Хобби и творчество-&gt;Пазлы, моза...</td>\n",
       "    </tr>\n",
       "    <tr>\n",
       "      <th>99989</th>\n",
       "      <td>790493</td>\n",
       "      <td>13407</td>\n",
       "      <td>False</td>\n",
       "      <td>22291</td>\n",
       "      <td>Море открыток</td>\n",
       "      <td>5.00000</td>\n",
       "      <td>{\"title\": \"Открытка \\\"Вместе навсегда\\\" в краф...</td>\n",
       "      <td>Все категории-&gt;Товары для дома-&gt;Товары для пра...</td>\n",
       "    </tr>\n",
       "    <tr>\n",
       "      <th>99990</th>\n",
       "      <td>114509</td>\n",
       "      <td>12100</td>\n",
       "      <td>False</td>\n",
       "      <td>2985</td>\n",
       "      <td>Oppa Market</td>\n",
       "      <td>5.00000</td>\n",
       "      <td>{\"title\": \"Пульт K10B-C1 для Rolsen\", \"descrip...</td>\n",
       "      <td>Все категории-&gt;Электроника-&gt;Телевизоры и видео...</td>\n",
       "    </tr>\n",
       "    <tr>\n",
       "      <th>99992</th>\n",
       "      <td>122515</td>\n",
       "      <td>12100</td>\n",
       "      <td>False</td>\n",
       "      <td>2985</td>\n",
       "      <td>Oppa Market</td>\n",
       "      <td>5.00000</td>\n",
       "      <td>{\"title\": \"Пульт DS300A/DC300A/DN300 для цифро...</td>\n",
       "      <td>Все категории-&gt;Электроника-&gt;Телевизоры и видео...</td>\n",
       "    </tr>\n",
       "  </tbody>\n",
       "</table>\n",
       "<p>91120 rows × 8 columns</p>\n",
       "</div>"
      ],
      "text/plain": [
       "       product_id  category_id   sale  shop_id           shop_title   rating  \\\n",
       "0          325286        12171  False     9031                Aksik  5.00000   \n",
       "1          888134        14233  False    18305                 Sela  5.00000   \n",
       "3         1267173        13429  False    16357  ЮНЛАНДИЯ канцтовары  5.00000   \n",
       "4         1416943         2789  False    34666        вася-nicotine  4.00000   \n",
       "5         1058275        12834  False    26389           Lim Market  4.60000   \n",
       "...           ...          ...    ...      ...                  ...      ...   \n",
       "99987      114402        14922  False     4955         СТЕКЛОФФ ПРО  3.62069   \n",
       "99988     1594500        13028  False    19626           Hobby room  5.00000   \n",
       "99989      790493        13407  False    22291        Море открыток  5.00000   \n",
       "99990      114509        12100  False     2985          Oppa Market  5.00000   \n",
       "99992      122515        12100  False     2985          Oppa Market  5.00000   \n",
       "\n",
       "                                             text_fields  \\\n",
       "0      {\"title\": \"Зарядный кабель Borofone BX1 Lightn...   \n",
       "1      {\"title\": \"Трусы Sela\", \"description\": \"Трусы-...   \n",
       "3      {\"title\": \"Гуашь \\\"ЮНЫЙ ВОЛШЕБНИК\\\", 12 цветов...   \n",
       "4      {\"title\": \"Колба для кальяна Крафт (разные цве...   \n",
       "5      {\"title\": \"Пижама женская, однотонная с шортам...   \n",
       "...                                                  ...   \n",
       "99987  {\"title\": \"Прочное стекло 2D на Samsung Galaxy...   \n",
       "99988  {\"title\": \"Алмазная мозаика \\\"Ромашки\\\" 40*50с...   \n",
       "99989  {\"title\": \"Открытка \\\"Вместе навсегда\\\" в краф...   \n",
       "99990  {\"title\": \"Пульт K10B-C1 для Rolsen\", \"descrip...   \n",
       "99992  {\"title\": \"Пульт DS300A/DC300A/DN300 для цифро...   \n",
       "\n",
       "                                           category_name  \n",
       "0      Все категории->Электроника->Смартфоны и телефо...  \n",
       "1      Все категории->Одежда->Женская одежда->Белье и...  \n",
       "3      Все категории->Хобби и творчество->Рисование->...  \n",
       "4      Все категории->Хобби и творчество->Товары для ...  \n",
       "5      Все категории->Одежда->Женская одежда->Домашня...  \n",
       "...                                                  ...  \n",
       "99987  Все категории->Электроника->Смартфоны и телефо...  \n",
       "99988  Все категории->Хобби и творчество->Пазлы, моза...  \n",
       "99989  Все категории->Товары для дома->Товары для пра...  \n",
       "99990  Все категории->Электроника->Телевизоры и видео...  \n",
       "99992  Все категории->Электроника->Телевизоры и видео...  \n",
       "\n",
       "[91120 rows x 8 columns]"
      ]
     },
     "execution_count": 29,
     "metadata": {},
     "output_type": "execute_result"
    }
   ],
   "source": [
    "import pandas as pd\n",
    "\n",
    "df_train = pd.read_parquet(\"train.parquet\")\n",
    "df_test = pd.read_parquet(\"test.parquet\").reset_index(drop=True)\n",
    "# df_test\n",
    "df_train\n"
   ]
  },
  {
   "cell_type": "code",
   "execution_count": 15,
   "metadata": {},
   "outputs": [],
   "source": [
    "import ast\n",
    "import numpy as np\n",
    "\n",
    "\n",
    "def text_fields_to_columns(df):\n",
    "    df[\"text_fields\"] = df[\"text_fields\"].apply(ast.literal_eval)\n",
    "    for key in df[\"text_fields\"][0].keys():\n",
    "        df[key] = df[\"text_fields\"].apply(\n",
    "            lambda x: x[key] if len(x[key]) > 0 else np.nan\n",
    "        )\n",
    "\n",
    "\n",
    "text_fields_to_columns(df_train)\n",
    "text_fields_to_columns(df_test)\n"
   ]
  },
  {
   "cell_type": "code",
   "execution_count": 16,
   "metadata": {},
   "outputs": [],
   "source": [
    "def custom_chars_to_columns(df):\n",
    "    not_na_custom_chars = df[\"custom_characteristics\"][\n",
    "        df[\"custom_characteristics\"].notna()\n",
    "    ]\n",
    "    not_na_custom_chars = not_na_custom_chars.apply(lambda x: list(x.keys()))\n",
    "    for i in range(3):\n",
    "        df[f\"custom_characteristics_{i}\"] = not_na_custom_chars.apply(\n",
    "            lambda x: x[i] if len(x) >= i + 1 else \"\"\n",
    "        )\n",
    "        df[f\"custom_characteristics_{i}\"] = df[f\"custom_characteristics_{i}\"].fillna(\"\")\n",
    "\n",
    "\n",
    "custom_chars_to_columns(df_train)\n",
    "custom_chars_to_columns(df_test)\n"
   ]
  },
  {
   "cell_type": "code",
   "execution_count": 17,
   "metadata": {},
   "outputs": [],
   "source": [
    "def defined_chars_to_columns(df):\n",
    "    not_na_defined_chars = df[\"defined_characteristics\"][\n",
    "        df[\"defined_characteristics\"].notna()\n",
    "    ]\n",
    "    not_na_defined_chars = not_na_defined_chars.apply(lambda x: list(x.keys()))\n",
    "    for i in range(2):\n",
    "        df[f\"defined_characteristics_{i}\"] = not_na_defined_chars.apply(\n",
    "            lambda x: x[i] if len(x) >= i + 1 else \"\"\n",
    "        )\n",
    "        df[f\"defined_characteristics_{i}\"] = df[f\"defined_characteristics_{i}\"].fillna(\n",
    "            \"\"\n",
    "        )\n",
    "\n",
    "\n",
    "defined_chars_to_columns(df_train)\n",
    "defined_chars_to_columns(df_test)\n"
   ]
  },
  {
   "cell_type": "code",
   "execution_count": 18,
   "metadata": {},
   "outputs": [],
   "source": [
    "import re\n",
    "\n",
    "\n",
    "def clean_html_from_description(df):\n",
    "    clean_regexp = re.compile(\"<.*?>\")\n",
    "    df[\"description\"] = df[\"description\"].str.replace(clean_regexp, \"\")\n",
    "\n",
    "\n",
    "clean_html_from_description(df_train)\n",
    "clean_html_from_description(df_test)\n"
   ]
  },
  {
   "cell_type": "code",
   "execution_count": 19,
   "metadata": {},
   "outputs": [],
   "source": [
    "columns_to_drop = [\n",
    "    \"shop_id\",\n",
    "    \"text_fields\",\n",
    "    \"custom_characteristics\",\n",
    "    \"defined_characteristics\",\n",
    "]\n",
    "# df_train = df_train.drop(columns=columns_to_drop + ['category_name'])\n",
    "df_train = df_train.drop(columns=columns_to_drop)\n",
    "\n",
    "df_test = df_test.drop(columns=columns_to_drop)\n"
   ]
  },
  {
   "cell_type": "code",
   "execution_count": 25,
   "metadata": {},
   "outputs": [
    {
     "data": {
      "text/plain": [
       "<Axes: >"
      ]
     },
     "execution_count": 25,
     "metadata": {},
     "output_type": "execute_result"
    },
    {
     "data": {
      "image/png": "[encoded data removed]",
      "text/plain": [
       "<Figure size 640x480 with 1 Axes>"
      ]
     },
     "metadata": {},
     "output_type": "display_data"
    }
   ],
   "source": [
    "df_train[\"category_id\"].hist(bins=100)\n"
   ]
  },
  {
   "cell_type": "code",
   "execution_count": 30,
   "metadata": {},
   "outputs": [
    {
     "data": {
      "text/plain": [
       "11937    6590\n",
       "14922    3709\n",
       "13651    1463\n",
       "13143    1460\n",
       "12980    1222\n",
       "         ... \n",
       "12808       2\n",
       "12901       1\n",
       "11549       1\n",
       "11875       1\n",
       "12836       1\n",
       "Name: category_id, Length: 874, dtype: int64"
      ]
     },
     "execution_count": 30,
     "metadata": {},
     "output_type": "execute_result"
    }
   ],
   "source": [
    "df_train[\"category_id\"].value_counts()\n"
   ]
  },
  {
   "cell_type": "code",
   "execution_count": 31,
   "metadata": {},
   "outputs": [
    {
     "data": {
      "text/plain": [
       "(874,)"
      ]
     },
     "execution_count": 31,
     "metadata": {},
     "output_type": "execute_result"
    }
   ],
   "source": [
    "df_train[\"category_id\"].unique().shape\n"
   ]
  },
  {
   "cell_type": "code",
   "execution_count": 27,
   "metadata": {},
   "outputs": [
    {
     "data": {
      "text/plain": [
       "(90250, 8)"
      ]
     },
     "execution_count": 27,
     "metadata": {},
     "output_type": "execute_result"
    }
   ],
   "source": [
    "df_train = df_train.groupby(\"category_id\").filter(lambda x: len(x) >= 10)\n",
    "df_train.shape\n"
   ]
  },
  {
   "cell_type": "code",
   "execution_count": 9,
   "metadata": {},
   "outputs": [],
   "source": [
    "categories = df_train[\"category_id\"].unique()\n",
    "true_category_to_target = dict(zip(categories, list(range(len(categories)))))\n",
    "df_train[\"target\"] = df_train[\"category_id\"].replace(true_category_to_target)\n"
   ]
  },
  {
   "cell_type": "code",
   "execution_count": 10,
   "metadata": {},
   "outputs": [
    {
     "data": {
      "text/plain": [
       "<Axes: >"
      ]
     },
     "execution_count": 10,
     "metadata": {},
     "output_type": "execute_result"
    },
    {
     "data": {
      "image/png": "[encoded data removed]",
      "text/plain": [
       "<Figure size 640x480 with 1 Axes>"
      ]
     },
     "metadata": {},
     "output_type": "display_data"
    }
   ],
   "source": [
    "df_train[\"target\"].hist()\n"
   ]
  },
  {
   "cell_type": "code",
   "execution_count": 11,
   "metadata": {},
   "outputs": [
    {
     "data": {
      "text/plain": [
       "(730,)"
      ]
     },
     "execution_count": 11,
     "metadata": {},
     "output_type": "execute_result"
    }
   ],
   "source": [
    "df_train[\"target\"].unique().shape\n"
   ]
  },
  {
   "cell_type": "code",
   "execution_count": 12,
   "metadata": {},
   "outputs": [],
   "source": [
    "for c in df_train.columns[df_train.dtypes == object]:\n",
    "    df_train[c] = df_train[c].astype(str)\n",
    "\n",
    "for c in df_test.columns[df_test.dtypes == object]:\n",
    "    df_test[c] = df_test[c].astype(str)\n"
   ]
  },
  {
   "cell_type": "code",
   "execution_count": 13,
   "metadata": {},
   "outputs": [],
   "source": [
    "def remove_unnecessary(df):\n",
    "    df[\"title\"] = df[\"title\"].str.replace(r\"\\w*\\d\\w*\", \" \", regex=True)\n",
    "    df[\"description\"] = df[\"description\"].str.replace(r\"\\w*\\d\\w*\", \" \", regex=True)\n",
    "\n",
    "    df[\"title\"] = df[\"title\"].str.replace(\" [^\\w\\s]+ \", \" \", regex=True)\n",
    "    df[\"description\"] = df[\"description\"].str.replace(\" [^\\w\\s]+ \", \" \", regex=True)\n",
    "\n",
    "    df[\"title\"] = df[\"title\"].str.replace(\"&nbsp\", \" \", regex=False)\n",
    "    df[\"description\"] = df[\"description\"].str.replace(\"&nbsp\", \" \", regex=False)\n",
    "\n",
    "    emoji_pattern = re.compile(\n",
    "        \"[\"\n",
    "        \"\\U0001F600-\\U0001F64F\"  # emoticons\n",
    "        \"\\U0001F300-\\U0001F5FF\"  # symbols & pictographs\n",
    "        \"\\U0001F680-\\U0001F6FF\"  # transport & map symbols\n",
    "        \"\\U0001F1E0-\\U0001F1FF\"  # flags (iOS)\n",
    "        \"\\U00002702-\\U000027B0\"\n",
    "        \"\\U000024C2-\\U0001F251\"\n",
    "        \"]+\",\n",
    "        flags=re.UNICODE,\n",
    "    )\n",
    "\n",
    "    df[\"title\"] = df[\"title\"].str.replace(emoji_pattern, \" \", regex=True)\n",
    "    df[\"description\"] = df[\"description\"].str.replace(emoji_pattern, \" \", regex=True)\n",
    "\n",
    "    df[\"title\"] = df[\"title\"].str.replace(\"http\\S+\", \" \", regex=True)\n",
    "    df[\"description\"] = df[\"description\"].str.replace(\"http\\S+\", \" \", regex=True)\n",
    "\n",
    "    df[\"title\"] = df[\"title\"].str.replace(\"youtu.be\", \" \", regex=True)\n",
    "    df[\"description\"] = df[\"description\"].str.replace(\"youtu.be\", \" \", regex=True)\n",
    "\n",
    "    df[\"title\"] = df[\"title\"].str.replace(r'\"*\"', \" \", regex=True)\n",
    "    df[\"description\"] = df[\"description\"].str.replace(r'\"*\"', \" \", regex=True)\n",
    "\n",
    "    df[\"title\"] = df[\"title\"].str.replace(r\"(шт|см)\", \" \", regex=True)\n",
    "    df[\"description\"] = df[\"description\"].str.replace(r\"(шт|см)\", \" \", regex=True)\n",
    "\n",
    "    df[\"title\"] = df[\"title\"].str.replace(\" +\", \" \", regex=True)\n",
    "    df[\"description\"] = df[\"description\"].str.replace(\" +\", \" \", regex=True)\n",
    "\n",
    "    df[\"title\"] = df[\"title\"].str.strip()\n",
    "    df[\"description\"] = df[\"description\"].str.strip()\n",
    "\n",
    "\n",
    "for _ in range(3):\n",
    "    remove_unnecessary(df_train)\n",
    "    remove_unnecessary(df_test)\n"
   ]
  },
  {
   "cell_type": "code",
   "execution_count": 30,
   "metadata": {},
   "outputs": [],
   "source": [
    "df_train[\"last_category\"] = (\n",
    "    df_train[\"category_name\"].str.extract(r\".+(->.+)$\")[0].str.replace(\"->\", \"\")\n",
    ")\n",
    "df_train[\"last_category\"] = df_train[\"last_category\"].str.replace(r\"[^\\w\\s]\", \"\")\n"
   ]
  },
  {
   "cell_type": "code",
   "execution_count": 31,
   "metadata": {},
   "outputs": [
    {
     "data": {
      "application/vnd.jupyter.widget-view+json": {
       "model_id": "ba2dea14718a471f88efbd7fc4f1461a",
       "version_major": 2,
       "version_minor": 0
      },
      "text/plain": [
       "Pandas Apply:   0%|          | 0/90250 [00:00<?, ?it/s]"
      ]
     },
     "metadata": {},
     "output_type": "display_data"
    }
   ],
   "source": [
    "import pymorphy2\n",
    "import swifter\n",
    "\n",
    "morph_analyzer = pymorphy2.MorphAnalyzer(lang=\"ru\")\n",
    "\n",
    "\n",
    "def converter(sentence):\n",
    "    normal_forms = []\n",
    "    words = sentence.split()\n",
    "    for item in words:\n",
    "        normal_forms.append(morph_analyzer.parse(item)[0].normal_form)\n",
    "    return normal_forms\n",
    "\n",
    "\n",
    "df_train[\"last_category\"] = df_train[\"last_category\"].swifter.apply(converter)\n"
   ]
  },
  {
   "cell_type": "code",
   "execution_count": 35,
   "metadata": {},
   "outputs": [],
   "source": [
    "category_tags = [\n",
    "    item for sublist in df_train[\"last_category\"].to_list() for item in sublist\n",
    "]\n",
    "category_tags = set(category_tags)\n"
   ]
  },
  {
   "cell_type": "code",
   "execution_count": null,
   "metadata": {},
   "outputs": [],
   "source": [
    "len(category_tags)\n"
   ]
  },
  {
   "cell_type": "code",
   "execution_count": null,
   "metadata": {},
   "outputs": [],
   "source": [
    "list_of_tags = list(category_tags)\n",
    "column_names = [f\"title_has_tag_{i}\" for i in list_of_tags]\n",
    "\n",
    "\n",
    "def find_tags(sentence):\n",
    "    normal_forms = set()\n",
    "    words = sentence.split()\n",
    "    for item in words:\n",
    "        normal_forms.add(morph_analyzer.parse(item)[0].normal_form)\n",
    "\n",
    "    result = []\n",
    "    for tag in list_of_tags:\n",
    "        if tag in normal_forms:\n",
    "            result.append(True)\n",
    "        else:\n",
    "            result.append(False)\n",
    "    return pd.Series(result)\n",
    "\n",
    "\n",
    "df_train[column_names] = df_train[\"title\"].swifter.apply(find_tags)\n",
    "df_test[column_names] = df_test[\"title\"].swifter.apply(find_tags)\n"
   ]
  },
  {
   "cell_type": "code",
   "execution_count": 131,
   "metadata": {},
   "outputs": [],
   "source": [
    "df_train.to_parquet(\"preprocessed_train.parquet\")\n",
    "df_test.to_parquet(\"preprocessed_test.parquet\")\n"
   ]
  },
  {
   "cell_type": "code",
   "execution_count": null,
   "metadata": {},
   "outputs": [],
   "source": []
  }
 ],
 "metadata": {
  "kernelspec": {
   "display_name": "kazan_express",
   "language": "python",
   "name": "python3"
  },
  "language_info": {
   "codemirror_mode": {
    "name": "ipython",
    "version": 3
   },
   "file_extension": ".py",
   "mimetype": "text/x-python",
   "name": "python",
   "nbconvert_exporter": "python",
   "pygments_lexer": "ipython3",
   "version": "3.10.9"
  },
  "orig_nbformat": 4
 },
 "nbformat": 4,
 "nbformat_minor": 2
}
